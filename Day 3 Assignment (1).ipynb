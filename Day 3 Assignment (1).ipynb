{
 "cells": [
  {
   "cell_type": "code",
   "execution_count": 8,
   "metadata": {},
   "outputs": [
    {
     "name": "stdout",
     "output_type": "stream",
     "text": [
      "Come down to 1000ft\n"
     ]
    }
   ],
   "source": [
    "a = 3000\n",
    "\n",
    "\n",
    "if a < 1000:\n",
    "    print(\"Land the plane\")\n",
    "\n",
    "elif a>1000 and a<5000:\n",
    "    print(\"Come down to 1000ft\")\n",
    "\n",
    "elif a>5000:\n",
    "    print(\"Go around and try later\")\n",
    "\n",
    "else :\n",
    "    print(\" \")"
   ]
  },
  {
   "cell_type": "code",
   "execution_count": null,
   "metadata": {},
   "outputs": [],
   "source": []
  }
 ],
 "metadata": {
  "kernelspec": {
   "display_name": "Python 3",
   "language": "python",
   "name": "python3"
  },
  "language_info": {
   "codemirror_mode": {
    "name": "ipython",
    "version": 3
   },
   "file_extension": ".py",
   "mimetype": "text/x-python",
   "name": "python",
   "nbconvert_exporter": "python",
   "pygments_lexer": "ipython3",
   "version": "3.8.3"
  }
 },
 "nbformat": 4,
 "nbformat_minor": 4
}
